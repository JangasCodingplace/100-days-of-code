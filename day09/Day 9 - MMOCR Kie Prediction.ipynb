{
 "cells": [
  {
   "cell_type": "markdown",
   "metadata": {},
   "source": [
    "# MMOCR"
   ]
  },
  {
   "cell_type": "code",
   "execution_count": 1,
   "metadata": {},
   "outputs": [
    {
     "name": "stderr",
     "output_type": "stream",
     "text": [
      "/Library/Frameworks/Python.framework/Versions/3.7/lib/python3.7/site-packages/mmcv/__init__.py:21: UserWarning: On January 1, 2023, MMCV will release v2.0.0, in which it will remove components related to the training process and add a data transformation module. In addition, it will rename the package names mmcv to mmcv-lite and mmcv-full to mmcv. See https://github.com/open-mmlab/mmcv/blob/master/docs/en/compatibility.md for more details.\n",
      "  'On January 1, 2023, MMCV will release v2.0.0, in which it will remove '\n"
     ]
    }
   ],
   "source": [
    "import cv2\n",
    "from PIL import Image\n",
    "from IPython.display import display\n",
    "from mmocr.utils.ocr import MMOCR"
   ]
  },
  {
   "cell_type": "code",
   "execution_count": 7,
   "metadata": {},
   "outputs": [
    {
     "name": "stdout",
     "output_type": "stream",
     "text": [
      "/Library/Frameworks/Python.framework/Versions/3.7/lib/python3.7/site-packages/mmcv/__init__.py:21: UserWarning: On January 1, 2023, MMCV will release v2.0.0, in which it will remove components related to the training process and add a data transformation module. In addition, it will rename the package names mmcv to mmcv-lite and mmcv-full to mmcv. See https://github.com/open-mmlab/mmcv/blob/master/docs/en/compatibility.md for more details.\n",
      "  'On January 1, 2023, MMCV will release v2.0.0, in which it will remove '\n",
      "processing psenet_r50_fpnf_600e_ctw1500...\n",
      "\u001b[32mpsenet_r50_fpnf_600e_ctw1500_20210401-216fed50.pth exists in /Users/janis/Desktop/100DaysOfCode/day09/configs/textdet/psenet\u001b[0m\n",
      "\u001b[32mSuccessfully dumped psenet_r50_fpnf_600e_ctw1500.py to /Users/janis/Desktop/100DaysOfCode/day09/configs/textdet/psenet\u001b[0m\n",
      "/Library/Frameworks/Python.framework/Versions/3.7/lib/python3.7/site-packages/mmcv/__init__.py:21: UserWarning: On January 1, 2023, MMCV will release v2.0.0, in which it will remove components related to the training process and add a data transformation module. In addition, it will rename the package names mmcv to mmcv-lite and mmcv-full to mmcv. See https://github.com/open-mmlab/mmcv/blob/master/docs/en/compatibility.md for more details.\n",
      "  'On January 1, 2023, MMCV will release v2.0.0, in which it will remove '\n",
      "processing sar_r31_parallel_decoder_academic...\n",
      "\u001b[32msar_r31_parallel_decoder_academic-dba3a4a3.pth exists in /Users/janis/Desktop/100DaysOfCode/day09/configs/textrecog/sar\u001b[0m\n",
      "\u001b[32mSuccessfully dumped sar_r31_parallel_decoder_academic.py to /Users/janis/Desktop/100DaysOfCode/day09/configs/textrecog/sar\u001b[0m\n",
      "/Library/Frameworks/Python.framework/Versions/3.7/lib/python3.7/site-packages/mmcv/__init__.py:21: UserWarning: On January 1, 2023, MMCV will release v2.0.0, in which it will remove components related to the training process and add a data transformation module. In addition, it will rename the package names mmcv to mmcv-lite and mmcv-full to mmcv. See https://github.com/open-mmlab/mmcv/blob/master/docs/en/compatibility.md for more details.\n",
      "  'On January 1, 2023, MMCV will release v2.0.0, in which it will remove '\n",
      "processing sdmgr_unet16_60e_wildreceipt...\n",
      "\u001b[2Kdownloading \u001b[90m━━━━━━━━━━━━━━━━━━━━━━━━━━━━━━━━\u001b[0m \u001b[32m18.4/18.4 MiB\u001b[0m \u001b[31m14.5 MB/s\u001b[0m eta \u001b[36m0:00:00\u001b[0m00:01\u001b[0m00:01\u001b[0m\n",
      "\u001b[?25h\u001b[32mSuccessfully downloaded sdmgr_unet16_60e_wildreceipt_20220706-57c220a6.pth to /Users/janis/Desktop/100DaysOfCode/day09/configs/kie/sdmgr\u001b[0m\n",
      "\u001b[32mSuccessfully dumped sdmgr_unet16_60e_wildreceipt.py to /Users/janis/Desktop/100DaysOfCode/day09/configs/kie/sdmgr\u001b[0m\n"
     ]
    }
   ],
   "source": [
    "!mim download mmocr --config psenet_r50_fpnf_600e_ctw1500 --dest ./configs/textdet/psenet/\n",
    "!mim download mmocr --config sar_r31_parallel_decoder_academic --dest ./configs/textrecog/sar/\n",
    "!mim download mmocr --config sdmgr_unet16_60e_wildreceipt --dest ./configs/kie/sdmgr/"
   ]
  },
  {
   "cell_type": "code",
   "execution_count": 2,
   "metadata": {
    "scrolled": true
   },
   "outputs": [
    {
     "name": "stdout",
     "output_type": "stream",
     "text": [
      "load checkpoint from http path: https://download.openmmlab.com/mmocr/textdet/psenet/psenet_r50_fpnf_600e_ctw1500_20210401-216fed50.pth\n"
     ]
    },
    {
     "name": "stderr",
     "output_type": "stream",
     "text": [
      "/Library/Frameworks/Python.framework/Versions/3.7/lib/python3.7/site-packages/mmocr/apis/inference.py:50: UserWarning: Class names are not saved in the checkpoint's meta data, use COCO classes by default.\n",
      "  warnings.warn('Class names are not saved in the checkpoint\\'s '\n"
     ]
    },
    {
     "name": "stdout",
     "output_type": "stream",
     "text": [
      "load checkpoint from http path: https://download.openmmlab.com/mmocr/textrecog/sar/sar_r31_parallel_decoder_academic-dba3a4a3.pth\n",
      "load checkpoint from http path: https://download.openmmlab.com/mmocr/kie/sdmgr/sdmgr_unet16_60e_wildreceipt_20220706-57c220a6.pth\n"
     ]
    },
    {
     "name": "stderr",
     "output_type": "stream",
     "text": [
      "/Library/Frameworks/Python.framework/Versions/3.7/lib/python3.7/site-packages/mmocr/apis/inference.py:50: UserWarning: Class names are not saved in the checkpoint's meta data, use COCO classes by default.\n",
      "  warnings.warn('Class names are not saved in the checkpoint\\'s '\n"
     ]
    }
   ],
   "source": [
    "# Load models into memory\n",
    "mmocr = MMOCR(det='PS_CTW', recog='SAR', kie='SDMGR')"
   ]
  },
  {
   "cell_type": "code",
   "execution_count": 3,
   "metadata": {},
   "outputs": [
    {
     "name": "stderr",
     "output_type": "stream",
     "text": [
      "/Library/Frameworks/Python.framework/Versions/3.7/lib/python3.7/site-packages/mmdet/datasets/utils.py:70: UserWarning: \"ImageToTensor\" pipeline is replaced by \"DefaultFormatBundle\" for batch inference. It is recommended to manually replace it in the test data pipeline in your config file.\n",
      "  'data pipeline in your config file.', UserWarning)\n",
      "/Library/Frameworks/Python.framework/Versions/3.7/lib/python3.7/site-packages/mmocr/datasets/kie_dataset.py:46: UserWarning: KIEDataset is only initialized as a downstream demo task of text detection and recognition without an annotation file.\n",
      "  'without an annotation file.', UserWarning)\n",
      "/Library/Frameworks/Python.framework/Versions/3.7/lib/python3.7/site-packages/mmocr/datasets/pipelines/box_utils.py:44: DeprecationWarning: `np.int` is a deprecated alias for the builtin `int`. To silence this warning, use `int` by itself. Doing this will not modify any behavior and is safe. When replacing `np.int`, you may wish to use e.g. `np.int64` or `np.int32` to specify the precision. If you wish to review your current use, check the release note link for additional information.\n",
      "Deprecated in NumPy 1.20; for more details and guidance: https://numpy.org/devdocs/release/1.20.0-notes.html#deprecations\n",
      "  indexes = (np.arange(N, dtype=np.int) + lefttop_idx) % N\n"
     ]
    },
    {
     "name": "stdout",
     "output_type": "stream",
     "text": [
      "{'filename': 'receipt', 'text': ['Moonstartaurant', 'WWW.MERTENDAY.CITY.CABLE', '(650)-992-2888', 'PAIDREPRINT', 'Tab:3210119:19', '#2406', 'QTY/LB', 'name', 'U/P', 'PRICE', 'WEEKDAVDINERS2', '29.88', 'SUBTOTAL:', '29.88', '15x.SERVICE.CORGE', '4.48', '(Tax(8.75%);', '3.01', '32.89', 'SALESTOTAL', 'TOTAL', '37.37', 'CASHA', '100.00', 'CHANGE', '62.63', '10/29/201819:51', 'THANKYOU']}\n",
      "\n"
     ]
    },
    {
     "name": "stderr",
     "output_type": "stream",
     "text": [
      "/Library/Frameworks/Python.framework/Versions/3.7/lib/python3.7/site-packages/mmocr/core/visualize.py:617: DeprecationWarning: getsize is deprecated and will be removed in Pillow 10 (2023-07-01). Use getbbox or getlength instead.\n",
      "  text_sizes.append(fnt.getsize(text))\n"
     ]
    },
    {
     "data": {
      "text/plain": [
       "[{'filename': 'receipt',\n",
       "  'text': ['Moonstartaurant',\n",
       "   'WWW.MERTENDAY.CITY.CABLE',\n",
       "   '(650)-992-2888',\n",
       "   'PAIDREPRINT',\n",
       "   'Tab:3210119:19',\n",
       "   '#2406',\n",
       "   'QTY/LB',\n",
       "   'name',\n",
       "   'U/P',\n",
       "   'PRICE',\n",
       "   'WEEKDAVDINERS2',\n",
       "   '29.88',\n",
       "   'SUBTOTAL:',\n",
       "   '29.88',\n",
       "   '15x.SERVICE.CORGE',\n",
       "   '4.48',\n",
       "   '(Tax(8.75%);',\n",
       "   '3.01',\n",
       "   '32.89',\n",
       "   'SALESTOTAL',\n",
       "   'TOTAL',\n",
       "   '37.37',\n",
       "   'CASHA',\n",
       "   '100.00',\n",
       "   'CHANGE',\n",
       "   '62.63',\n",
       "   '10/29/201819:51',\n",
       "   'THANKYOU']}]"
      ]
     },
     "execution_count": 3,
     "metadata": {},
     "output_type": "execute_result"
    }
   ],
   "source": [
    "mmocr.readtext(\n",
    "    './receipt.jpg',\n",
    "    print_result=True,\n",
    "    output='outputs/demo_kie_pred.jpg',\n",
    ")"
   ]
  },
  {
   "cell_type": "code",
   "execution_count": null,
   "metadata": {},
   "outputs": [],
   "source": []
  }
 ],
 "metadata": {
  "kernelspec": {
   "display_name": "Python 3",
   "language": "python",
   "name": "python3"
  },
  "language_info": {
   "codemirror_mode": {
    "name": "ipython",
    "version": 3
   },
   "file_extension": ".py",
   "mimetype": "text/x-python",
   "name": "python",
   "nbconvert_exporter": "python",
   "pygments_lexer": "ipython3",
   "version": "3.7.6"
  }
 },
 "nbformat": 4,
 "nbformat_minor": 4
}
